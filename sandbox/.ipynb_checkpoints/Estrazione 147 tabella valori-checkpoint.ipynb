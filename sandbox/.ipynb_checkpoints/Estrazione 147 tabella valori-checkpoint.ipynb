{
 "cells": [
  {
   "cell_type": "code",
   "execution_count": 1,
   "id": "faced-samoa",
   "metadata": {},
   "outputs": [],
   "source": [
    "import os"
   ]
  },
  {
   "cell_type": "code",
   "execution_count": 20,
   "id": "conservative-figure",
   "metadata": {},
   "outputs": [
    {
     "name": "stdout",
     "output_type": "stream",
     "text": [
      "file open\n",
      "file open\n",
      "file open\n",
      "file open\n",
      "file open\n",
      "file open\n",
      "file open\n",
      "file open\n",
      "file open\n",
      "file open\n",
      "file open\n",
      "file open\n",
      "file open\n",
      "file open\n"
     ]
    },
    {
     "data": {
      "text/plain": [
       "'simu.147.1--23.3kV.He-N50k-focus-voltage,49,-6.56719,0.992372,44.4671,1.12022e-05,99812,-21.4352,9.69208,47.5098,1.72357e-05,99812\\nsimu.147.10--1.3kV.He-N50k-focus-voltage,49,-6.5672,0.992371,44.4673,1.12022e-05,99812,-41.9758,8.35414,211.029,1.26924e-05,99812\\nsimu.147.11--700V.He-N50k-focus-voltage,49,-6.5672,0.992373,44.4672,1.12022e-05,99812,-24.7218,6.12825,99.8928,1.92431e-05,99812\\nsimu.147.12--350V.He-N50k-focus-voltage,49,-6.56723,0.992379,44.4674,1.12021e-05,99812,-7.69088,2.77121,21.7052,3.33906e-05,99812\\nsimu.147.2--18.3kV.He-N50k-focus-voltage,49,-6.5671,0.99236,44.4665,1.12023e-05,99812,-19.8562,9.13563,43.2666,1.72898e-05,99812\\nsimu.147.3--13.3kV.He-N50k-focus-voltage,49,-6.56715,0.992368,44.4669,1.12022e-05,99812,-14.1635,7.23183,27.8774,1.69332e-05,99812\\nsimu.147.4--8.3kV.He-N50k-focus-voltage,49,-6.56721,0.992376,44.4673,1.12021e-05,99812,-8.25271,5.2184,13.243,1.12305e-05,99812\\nsimu.147.5--3.3kV.He-N50k-focus-voltage,49,-6.56714,0.992367,44.4667,1.12022e-05,99812,-20.1553,3.16083,128.838,1.41502e-05,99812\\nsimu.147.5bis--3.3kV.He-N50k-focus-voltage,49,-6.5672,0.992374,44.4672,1.12021e-05,99812,-20.1555,3.16086,128.839,1.41502e-05,99812\\nsimu.147.6-0kV.He-N50k-focus-voltage,49,-6.56714,0.992363,44.4669,1.12023e-05,99812,-2.74143,0.317327,26.8349,0.000198809,99812\\nsimu.147.6bis-0kV.He-N50k-focus-voltage,49,-6.56715,0.992369,44.4668,1.12022e-05,99812,-2.74073,0.317202,26.8334,0.000198724,99812\\nsimu.147.7-+2kV.He-N50k-focus-voltage,49,-2.18736,0.366198,15.7963,3.24918e-05,100156,-4.40615,0.59971,34.04,0.00068154,99374\\nsimu.147.8--4.3kV.He-N50k-focus-voltage,49,-6.56737,0.992395,44.4685,1.1202e-05,99812,-8.77999,1.58584,49.241,2.00935e-05,99812\\nsimu.147.9--2.3kV.He-N50k-focus-voltage,49,-6.56724,0.992379,44.4674,1.12021e-05,99812,-47.9436,7.9731,288.418,8.85837e-06,99812\\n'"
      ]
     },
     "execution_count": 20,
     "metadata": {},
     "output_type": "execute_result"
    }
   ],
   "source": [
    "dirs = filter(lambda path: \"simu.147.\" in path, os.listdir(\"..\"))\n",
    "result = []\n",
    "for path in dirs:\n",
    "    fd = open(\"../\" + path + \"/beamdiagnostics.csv\")\n",
    "    print(\"file open\")\n",
    "    lastline = fd.readlines()[-1]\n",
    "    fd.close()\n",
    "    result.append(path + \",\" + lastline)\n",
    "fp = open(\"output-simu-147.csv\",\"w\")\n",
    "fp.write(\"\".join(result))\n",
    "fp.close()\n",
    "\"\".join(result)"
   ]
  },
  {
   "cell_type": "code",
   "execution_count": 8,
   "id": "progressive-toner",
   "metadata": {},
   "outputs": [
    {
     "data": {
      "text/plain": [
       "False"
      ]
     },
     "execution_count": 8,
     "metadata": {},
     "output_type": "execute_result"
    }
   ],
   "source": []
  },
  {
   "cell_type": "code",
   "execution_count": null,
   "id": "arbitrary-husband",
   "metadata": {},
   "outputs": [],
   "source": []
  }
 ],
 "metadata": {
  "kernelspec": {
   "display_name": "Python 3",
   "language": "python",
   "name": "python3"
  },
  "language_info": {
   "codemirror_mode": {
    "name": "ipython",
    "version": 3
   },
   "file_extension": ".py",
   "mimetype": "text/x-python",
   "name": "python",
   "nbconvert_exporter": "python",
   "pygments_lexer": "ipython3",
   "version": "3.8.5"
  }
 },
 "nbformat": 4,
 "nbformat_minor": 5
}
