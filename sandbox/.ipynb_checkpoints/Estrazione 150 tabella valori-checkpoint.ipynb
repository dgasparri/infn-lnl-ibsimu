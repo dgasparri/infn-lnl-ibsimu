{
 "cells": [
  {
   "cell_type": "code",
   "execution_count": 1,
   "id": "faced-samoa",
   "metadata": {},
   "outputs": [],
   "source": [
    "import os"
   ]
  },
  {
   "cell_type": "code",
   "execution_count": 2,
   "id": "conservative-figure",
   "metadata": {},
   "outputs": [
    {
     "name": "stdout",
     "output_type": "stream",
     "text": [
      "file open\n",
      "file open\n",
      "file open\n",
      "file open\n",
      "file open\n",
      "file open\n",
      "file open\n",
      "file open\n",
      "file open\n",
      "file open\n",
      "file open\n",
      "file open\n",
      "file open\n",
      "file open\n",
      "file open\n",
      "file open\n",
      "file open\n",
      "file open\n"
     ]
    },
    {
     "data": {
      "text/plain": [
       "'simu.150.1-EC2.ground0V-focus--1000V,24,-3.97358,0.728458,23.0478,1.13773e-05,199802,-20.584,7.75346,54.7755,1.69171e-05,199802\\nsimu.150.1-EC2.ground0V-focus--1500V,24,-3.97359,0.728459,23.0478,1.13773e-05,199802,-20.4706,7.72468,54.3772,1.69059e-05,199802\\nsimu.150.1-EC2.ground0V-focus--2000V,24,-3.97356,0.728454,23.0476,1.13773e-05,199802,-20.3402,7.69106,53.9229,1.68947e-05,199802\\nsimu.150.1-EC2.ground0V-focus--500V,24,-3.97355,0.728454,23.0476,1.13773e-05,199802,-20.6783,7.77692,55.1107,1.69286e-05,199802\\nsimu.150.1-EC2.ground0V-focus-0V,24,-3.9735,0.728446,23.0473,1.13774e-05,199804,-20.7529,7.79451,55.383,1.69412e-05,199802\\nsimu.150.1-EC2.ground0V-focus-1000V,24,-3.97349,0.728441,23.0473,1.13775e-05,199802,-20.8409,7.81318,55.7188,1.69632e-05,199802\\nsimu.150.1-EC2.ground0V-focus-11000V,24,-3.97304,0.72841,23.0434,1.13775e-05,99902,-14.8464,6.02672,36.7389,1.68957e-05,99902\\nsimu.150.1-EC2.ground0V-focus-14000V,24,-3.97305,0.728415,23.0434,1.13774e-05,99902,-10.6506,4.73334,24.1762,1.58218e-05,99902\\nsimu.150.1-EC2.ground0V-focus-1500V,24,-3.97354,0.728452,23.0476,1.13774e-05,199802,-20.8479,7.81188,55.7657,1.69761e-05,199802\\nsimu.150.1-EC2.ground0V-focus-17000V,24,-3.97302,0.728408,23.0433,1.13775e-05,99902,-8.58616,4.00629,18.6512,1.0714e-05,99902\\nsimu.150.1-EC2.ground0V-focus-20000V,24,-3.97299,0.728403,23.0431,1.13775e-05,99902,-6.51642,1.44048,30.173,1.69609e-05,99902\\nsimu.150.1-EC2.ground0V-focus-2000V,24,-3.97354,0.72845,23.0476,1.13774e-05,199802,-20.8319,7.80429,55.7346,1.69874e-05,199802\\nsimu.150.1-EC2.ground0V-focus-23000V,24,-3.97302,0.728407,23.0433,1.13775e-05,99902,-15.7932,3.30733,75.7179,1.70276e-05,99902\\nsimu.150.1-EC2.ground0V-focus-2500V,24,-3.97355,0.728451,23.0476,1.13774e-05,199802,-20.7881,7.78865,55.6121,1.69999e-05,199802\\nsimu.150.1-EC2.ground0V-focus-3000V,24,-3.97354,0.72845,23.0476,1.13774e-05,199802,-20.7151,7.76486,55.3925,1.7013e-05,199802\\nsimu.150.1-EC2.ground0V-focus-5000V,24,-3.97299,0.728408,23.043,1.13774e-05,99902,-20.1182,7.58387,53.5008,1.70575e-05,99902\\nsimu.150.1-EC2.ground0V-focus-500V,24,-3.97354,0.72845,23.0476,1.13774e-05,199802,-20.8079,7.80705,55.5866,1.6952e-05,199804\\nsimu.150.1-EC2.ground0V-focus-8000V,24,-3.97299,0.728405,23.0431,1.13775e-05,99902,-18.1668,7.01052,47.2195,1.70792e-05,99902\\n'"
      ]
     },
     "execution_count": 2,
     "metadata": {},
     "output_type": "execute_result"
    }
   ],
   "source": [
    "dirs = filter(lambda path: \"simu.150.1-EC2.ground0V-focus-\" in path, os.listdir(\"..\"))\n",
    "result = []\n",
    "for path in dirs:\n",
    "    fd = open(\"../\" + path + \"/beamdiagnostics.csv\")\n",
    "    print(\"file open\")\n",
    "    lastline = fd.readlines()[-1]\n",
    "    fd.close()\n",
    "    voltage = \n",
    "    result.append(path + \",\" + lastline)\n",
    "fp = open(\"output-simu-150.csv\",\"w\")\n",
    "#fp.write(\"\".join(result))\n",
    "fp.writelines(result)\n",
    "fp.close()\n",
    "\"\".join(result)"
   ]
  },
  {
   "cell_type": "code",
   "execution_count": 8,
   "id": "progressive-toner",
   "metadata": {},
   "outputs": [
    {
     "data": {
      "text/plain": [
       "False"
      ]
     },
     "execution_count": 8,
     "metadata": {},
     "output_type": "execute_result"
    }
   ],
   "source": []
  },
  {
   "cell_type": "code",
   "execution_count": null,
   "id": "arbitrary-husband",
   "metadata": {},
   "outputs": [],
   "source": []
  }
 ],
 "metadata": {
  "kernelspec": {
   "display_name": "Python 3",
   "language": "python",
   "name": "python3"
  },
  "language_info": {
   "codemirror_mode": {
    "name": "ipython",
    "version": 3
   },
   "file_extension": ".py",
   "mimetype": "text/x-python",
   "name": "python",
   "nbconvert_exporter": "python",
   "pygments_lexer": "ipython3",
   "version": "3.8.5"
  }
 },
 "nbformat": 4,
 "nbformat_minor": 5
}
