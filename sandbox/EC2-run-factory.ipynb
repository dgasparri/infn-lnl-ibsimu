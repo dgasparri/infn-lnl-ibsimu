{
 "cells": [
  {
   "cell_type": "code",
   "execution_count": 14,
   "id": "caroline-burns",
   "metadata": {},
   "outputs": [],
   "source": [
    "import os"
   ]
  },
  {
   "cell_type": "code",
   "execution_count": 2,
   "id": "computational-trial",
   "metadata": {},
   "outputs": [
    {
     "name": "stdout",
     "output_type": "stream",
     "text": [
      "['ibsimu-cores = 12\\n', 'ibsimu-message-threshold = MSG_VERBOSE\\n', 'display-console = false #false true\\n', '\\n', 'ibsimu-file-beam-diagnostics = beamdiagnostics.csv\\n', 'ibsimu-file-prefix-geometry = geom\\n', 'ibsimu-file-prefix-epot = epot\\n', 'ibsimu-file-prefix-pdb = pdb\\n', '\\n', 'diagnostics-at-loop = 3,4,5,6,7,8,9, LAST\\n', 'diagnostics-axis = AXIS_X_R_RP #AXIS_X_R_RP\\n', 'diagnostics-plane-coordiante = 0.1\\n', 'diagnostics-extraction-parameters = ALPHA, BETA, GAMMA, EPSILON, N_PARTICLES\\n', '\\n', 'diagnostics-at-loop = 3,4,5,6,7,8,9, LAST\\n', 'diagnostics-axis = AXIS_X_R_RP\\n', 'diagnostics-plane-coordiante = 0.5\\n', 'diagnostics-extraction-parameters = ALPHA, BETA, GAMMA, EPSILON, N_PARTICLES\\n', '\\n', '\\n', '\\n', 'number-of-rounds = 25\\n', 'space-charge-alpha = 0.7\\n', '\\n', 'geometry-mode = MODE_CYL\\n', 'origin-x = 0 # -10e-3\\n', 'origin-y = 0\\n', 'origin-z = 0\\n', 'geometry-start-x = 0 #-10e-3\\n', 'geometry-start-y = 0\\n', 'geometry-start-z = 0\\n', 'geometry-size-x = 530e-3\\n', 'geometry-size-y = 60e-3\\n', 'geometry-size-z = 0\\n', 'mesh-cell-size-h = 0.5e-3 # 0.5e-3\\n', 'wall-1-bound-type = BOUND_DIRICHLET\\n', 'wall-1-bound-voltage = 24020.0 # 0.0\\n', 'wall-2-bound-type = BOUND_DIRICHLET\\n', 'wall-2-bound-voltage = 0.0\\n', 'wall-3-bound-type = BOUND_NEUMANN\\n', 'wall-3-bound-voltage = 0.0\\n', '# wall-4-bound-type = BOUND_DIRICHLET\\n', '# wall-4-bound-voltage = -24.0e3\\n', '\\n', '\\n', 'dxf-filename = ../../lnl-runs/assets/geom.2021.04.15_base_zero.1.dxf\\n', '\\n', 'dxfsolid-layername     = extraction_line\\n', 'dxfsolid-scalefactor   = 1e-3\\n', 'dxfsolid-bound-type    = BOUND_DIRICHLET\\n', 'dxfsolid-bound-voltage = 24e3\\n', '\\n', 'dxfsolid-layername     = puller_line\\n', 'dxfsolid-scalefactor   = 1e-3\\n', 'dxfsolid-bound-type    = BOUND_DIRICHLET\\n', 'dxfsolid-bound-voltage = -1e3\\n', '\\n', 'dxfsolid-layername     = focus_line\\n', 'dxfsolid-scalefactor   = 1e-3\\n', 'dxfsolid-bound-type    = BOUND_DIRICHLET\\n', 'dxfsolid-bound-voltage = 700 \\n', '\\n', 'dxfsolid-layername     = ground_line\\n', 'dxfsolid-scalefactor   = 1e-3\\n', 'dxfsolid-bound-type    = BOUND_DIRICHLET\\n', 'dxfsolid-bound-voltage = 0.0\\n', '\\n', 'bfield-mode = MODE_CYL\\n', 'bfield-filename = ../../lnl-runs/assets/matrice_campo_10mm.16.04.2021.txt\\n', '\\n', 'bfield-sel-f1 = true\\n', 'bfield-sel-f2 = true\\n', 'bfield-sel-f3 = false\\n', 'bfield-xscale = 1.0\\n', 'bfield-fscale = 1.0\\n', '\\n', 'bfield-translate-x = 0 # -10e-3\\n', 'bfield-translate-y = 0\\n', 'bfield-translate-z = 0\\n', '\\n', 'electron-temperature-Te = 20.0\\n', 'plasma-potential-Up = 24020\\n', 'plasma-init-x = 0 # 0.10e-3\\n', '# plasma-init-y = 0\\n', '# plasma-init-z = 0\\n', '\\n', '#beam 1\\n', 'beam-number-of-particles = 100000 #N\\n', 'beam-current-density = 50.0 # 150.0 # A/m^2\\n', 'beam-particle-charge = 2 # in multiples of e\\n', 'beam-mass = 4.0 # (u)\\n', 'beam-mean-energy = 9.0 # eV Bohm criteria\\n', 'beam-parallel-temperature-Tp = 1.0 # eV\\n', 'beam-transverse-temperature-Tt = 1.0 # eV\\n', 'beam-vector-x1 = 0.0\\n', 'beam-vector-y1 = 0.0 #0\\n', 'beam-vector-x2 = 0.0\\n', 'beam-vector-y2 = 3.5e-3 #r3\\n', '\\n', '\\n', ' \\n']\n"
     ]
    }
   ],
   "source": [
    "fp = open(\"../simu.150.1-EC2.ground0V/config.ini\",'r')\n",
    "config_params = fp.readlines()\n",
    "fp.close()\n",
    "print(config_params)\n",
    "        \n",
    "        "
   ]
  },
  {
   "cell_type": "code",
   "execution_count": 15,
   "id": "hollywood-boards",
   "metadata": {},
   "outputs": [
    {
     "name": "stdout",
     "output_type": "stream",
     "text": [
      "Found group\n",
      "Found dxfsolid-bound-voltage = 1500\n",
      "\n",
      "dxfsolid-bound-voltage = -2000\n",
      "\n",
      "Found group\n",
      "Found dxfsolid-bound-voltage = -2000\n",
      "\n",
      "dxfsolid-bound-voltage = -1500\n",
      "\n",
      "Found group\n",
      "Found dxfsolid-bound-voltage = -1500\n",
      "\n",
      "dxfsolid-bound-voltage = -1000\n",
      "\n",
      "Found group\n",
      "Found dxfsolid-bound-voltage = -1000\n",
      "\n",
      "dxfsolid-bound-voltage = -500\n",
      "\n",
      "Found group\n",
      "Found dxfsolid-bound-voltage = -500\n",
      "\n",
      "dxfsolid-bound-voltage = 0\n",
      "\n",
      "Found group\n",
      "Found dxfsolid-bound-voltage = 0\n",
      "\n",
      "dxfsolid-bound-voltage = 500\n",
      "\n",
      "Found group\n",
      "Found dxfsolid-bound-voltage = 500\n",
      "\n",
      "dxfsolid-bound-voltage = 1000\n",
      "\n",
      "Found group\n",
      "Found dxfsolid-bound-voltage = 1000\n",
      "\n",
      "dxfsolid-bound-voltage = 1500\n",
      "\n",
      "Found group\n",
      "Found dxfsolid-bound-voltage = 1500\n",
      "\n",
      "dxfsolid-bound-voltage = 2000\n",
      "\n",
      "Found group\n",
      "Found dxfsolid-bound-voltage = 2000\n",
      "\n",
      "dxfsolid-bound-voltage = 2500\n",
      "\n",
      "Found group\n",
      "Found dxfsolid-bound-voltage = 2500\n",
      "\n",
      "dxfsolid-bound-voltage = 3000\n",
      "\n"
     ]
    }
   ],
   "source": [
    "for voltage in range(-2000, 3500, 500):\n",
    "  focus_group = False\n",
    "  for i in range(len(config_params)):\n",
    "      if config_params[i].startswith(\"dxfsolid-layername     = focus_line\"):\n",
    "          focus_group = True\n",
    "          print(\"Found group\")\n",
    "      if focus_group and config_params[i].startswith(\"dxfsolid-bound-voltage\"):\n",
    "          print(\"Found\", config_params[i])\n",
    "          config_params[i] = \"dxfsolid-bound-voltage = \" + str(voltage) + \"\\n\"\n",
    "          print(config_params[i])\n",
    "          focus_group = False\n",
    "  dirpath = \"../simu.150.1-EC2.ground0V-focus-\" + str(voltage) + \"V\"\n",
    "  os.mkdir(dirpath)\n",
    "  fp = open(dirpath + \"/config.ini\",'w')\n",
    "  fp.writelines(config_params)\n",
    "  fp.close()"
   ]
  },
  {
   "cell_type": "code",
   "execution_count": 10,
   "id": "voluntary-girlfriend",
   "metadata": {},
   "outputs": [
    {
     "data": {
      "text/plain": [
       "[-2000, -1500, -1000, -500, 0, 500, 1000, 1500, 2000, 2500, 3000]"
      ]
     },
     "execution_count": 10,
     "metadata": {},
     "output_type": "execute_result"
    }
   ],
   "source": [
    "list(range(-2000, 3500, 500))"
   ]
  },
  {
   "cell_type": "code",
   "execution_count": null,
   "id": "graphic-water",
   "metadata": {},
   "outputs": [],
   "source": []
  }
 ],
 "metadata": {
  "kernelspec": {
   "display_name": "Python 3",
   "language": "python",
   "name": "python3"
  },
  "language_info": {
   "codemirror_mode": {
    "name": "ipython",
    "version": 3
   },
   "file_extension": ".py",
   "mimetype": "text/x-python",
   "name": "python",
   "nbconvert_exporter": "python",
   "pygments_lexer": "ipython3",
   "version": "3.8.5"
  }
 },
 "nbformat": 4,
 "nbformat_minor": 5
}
